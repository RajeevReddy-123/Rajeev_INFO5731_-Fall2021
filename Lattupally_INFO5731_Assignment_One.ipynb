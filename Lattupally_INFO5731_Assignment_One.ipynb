{
  "cells": [
    {
      "cell_type": "markdown",
      "metadata": {
        "id": "view-in-github",
        "colab_type": "text"
      },
      "source": [
        "<a href=\"https://colab.research.google.com/github/RajeevReddy-123/Rajeev_INFO5731_-Fall2021/blob/main/Lattupally_INFO5731_Assignment_One.ipynb\" target=\"_parent\"><img src=\"https://colab.research.google.com/assets/colab-badge.svg\" alt=\"Open In Colab\"/></a>"
      ]
    },
    {
      "cell_type": "markdown",
      "metadata": {
        "id": "Ryk8D1Q4Wsrp"
      },
      "source": [
        "# **INFO5731 Assignment One**\n",
        "\n",
        "# ** Rajeev Reddy Lattupally**"
      ]
    },
    {
      "cell_type": "markdown",
      "metadata": {
        "id": "90_NR8c5XGWc"
      },
      "source": [
        "# Question 1\n",
        "\n",
        "(20 points). Write a Python program to generate 12 random numbers between 1 and 100. Sort the list of numbers in ascending order and print it out. Sort the list of numbers in descending order and print it out. Calculate the average for the group and print it out."
      ]
    },
    {
      "cell_type": "code",
      "execution_count": null,
      "metadata": {
        "colab": {
          "base_uri": "https://localhost:8080/"
        },
        "id": "5QX6bJjGWXY9",
        "outputId": "ea0d3f04-ad85-4c7e-f096-88ee96ab578f"
      },
      "outputs": [
        {
          "output_type": "stream",
          "name": "stdout",
          "text": [
            "The randomly generated number between 1 to 100 is : 96\n",
            "The randomly generated number between 1 to 100 is : 64\n",
            "The randomly generated number between 1 to 100 is : 5\n",
            "The randomly generated number between 1 to 100 is : 31\n",
            "The randomly generated number between 1 to 100 is : 25\n",
            "The randomly generated number between 1 to 100 is : 34\n",
            "The randomly generated number between 1 to 100 is : 18\n",
            "The randomly generated number between 1 to 100 is : 87\n",
            "The randomly generated number between 1 to 100 is : 20\n",
            "The randomly generated number between 1 to 100 is : 35\n",
            "The randomly generated number between 1 to 100 is : 87\n",
            "The randomly generated number between 1 to 100 is : 27\n"
          ]
        }
      ],
      "source": [
        "# Generating 12 random numbers between 1 and 100.\n",
        "import random \n",
        "random_List=[]\n",
        "for x in range(12):\n",
        "  Generated_number= random.randint(1,100)\n",
        "  random_List.append(Generated_number)\n",
        "  print(\"The randomly generated number between 1 to 100 is :\", Generated_number)"
      ]
    },
    {
      "cell_type": "code",
      "source": [
        "  # Sorting the list in ascending order\n",
        "random_List.sort()\n",
        "print(\" The List in Ascending Order:\", random_List)"
      ],
      "metadata": {
        "colab": {
          "base_uri": "https://localhost:8080/"
        },
        "id": "dHIYUoAOo6gD",
        "outputId": "386d5cf1-9e36-41a5-a5fa-8fe944b8641a"
      },
      "execution_count": null,
      "outputs": [
        {
          "output_type": "stream",
          "name": "stdout",
          "text": [
            " The List in Ascending Order: [5, 18, 20, 25, 27, 31, 34, 35, 64, 87, 87, 96]\n"
          ]
        }
      ]
    },
    {
      "cell_type": "code",
      "source": [
        "# Sorting the list in descending order\n",
        "random_List.sort(reverse=True)\n",
        "print(\" The List in Descending Order:\", random_List)"
      ],
      "metadata": {
        "colab": {
          "base_uri": "https://localhost:8080/"
        },
        "id": "74vjKEpRpGA0",
        "outputId": "b874506e-6d89-47f9-daa0-ef0c5de42ba0"
      },
      "execution_count": null,
      "outputs": [
        {
          "output_type": "stream",
          "name": "stdout",
          "text": [
            " The List in Descending Order: [96, 87, 87, 64, 35, 34, 31, 27, 25, 20, 18, 5]\n"
          ]
        }
      ]
    },
    {
      "cell_type": "markdown",
      "metadata": {
        "id": "1F_PZdH9Sh49"
      },
      "source": [
        "# Question 2\n",
        "(25 points). Write a program that will do the following string formatting tasks:\n",
        "\n",
        "(1) Ask the user to enter two sentences.\n",
        "\n",
        "(2) Make each sentence into a list. Each element in the list should correspond to a word in the sentence. For example, if the sentence is \"Alas! Am I alive? This is my first python program\", the program should print out ['Alas, '!', 'Am', 'I', 'alive, '?', 'This', 'is', 'my', 'first', 'python', 'program'].\n",
        "\n",
        "(3) Compare the two sentences. Print out a list of words that occur in both sentences.\n",
        "\n",
        "(4) Remove any punctuation from the sentence and print it back out. It should remove at least the following characters, but it can remove more: period(“.”), comma (“,”), semicolon (“;”), and colon (“:”)\n",
        "\n",
        "(5) Count the number of vowels in the sentences. Print out each vowel and the number of times it appears in the sentences, such as: a:2, e:1, i:0, etc"
      ]
    },
    {
      "cell_type": "code",
      "execution_count": null,
      "metadata": {
        "id": "Y0oOSlsOS0cq",
        "colab": {
          "base_uri": "https://localhost:8080/"
        },
        "outputId": "bd325511-bd52-42d9-8b69-7d787da70d0a"
      },
      "outputs": [
        {
          "name": "stdout",
          "output_type": "stream",
          "text": [
            "Enter the first string: \"Alias! Am I alive?\n",
            "Enter the second string: This is my first python progran\"\n"
          ]
        }
      ],
      "source": [
        "# (1) Ask the user to enter two sentences.\n",
        "A = input(\"Enter the first string: \")\n",
        "B = input(\"Enter the second string: \")"
      ]
    },
    {
      "cell_type": "code",
      "source": [
        "#(2) Make each sentence into a list. Each element in the list should correspond to a word in the sentence. For example, if the sentence is \"Alas! Am I alive? This is my first python program\", the program should print out ['Alas, '!', 'Am', 'I', 'alive, '?', 'This', 'is', 'my', 'first', 'python', 'program'].\n",
        "import re\n",
        "a = re.findall(r\"[\\w']+|[.,!?;:]\", A)\n",
        "b = re.findall(r\"[\\w']+|[.,!?;:]\", B)\n",
        "\n",
        "print(\"The First sentence element in the list :\",a)\n",
        "print(\"The Second  sentence element in the list:\",b)"
      ],
      "metadata": {
        "colab": {
          "base_uri": "https://localhost:8080/"
        },
        "id": "OyjbpTVy4eDt",
        "outputId": "dd0c5e69-cce1-47ba-b82e-9693ab8ab0a6"
      },
      "execution_count": null,
      "outputs": [
        {
          "output_type": "stream",
          "name": "stdout",
          "text": [
            "The First sentence element in the list : ['Alias', '!', 'Am', 'I', 'alive', '?']\n",
            "The Second  sentence element in the list: ['This', 'is', 'my', 'first', 'python', 'progran']\n"
          ]
        }
      ]
    },
    {
      "cell_type": "code",
      "source": [
        "#(3) Compare the two sentences. Print out a list of words that occur in both sentences.\n",
        "for Word in a:\n",
        "  for different in b:\n",
        "    if Word.lower() == different.lower():\n",
        "      print(Word)\n",
        "print(\"list of words that occur in both senetnces:\", Word)"
      ],
      "metadata": {
        "colab": {
          "base_uri": "https://localhost:8080/"
        },
        "id": "igF_FYqb4iH_",
        "outputId": "050091e8-49d4-46ef-fa8f-468f5b421494"
      },
      "execution_count": null,
      "outputs": [
        {
          "output_type": "stream",
          "name": "stdout",
          "text": [
            "list of words that occur in both senetnces: ?\n"
          ]
        }
      ]
    },
    {
      "cell_type": "code",
      "source": [
        "#(4) Remove any punctuation from the sentence and print it back out. It should remove at least the following characters, but it can remove more: period(“.”), comma (“,”), semicolon (“;”), and colon (“:”)\n",
        "for Word in a:\n",
        "  for different in b:\n",
        "    if Word.lower() == different.lower() and Word not in string.punctuation:\n",
        "      print(Word)\n",
        "print(\"list of words  punctuation that are removed from the sentence in both senetnces:\", Word)"
      ],
      "metadata": {
        "colab": {
          "base_uri": "https://localhost:8080/"
        },
        "id": "Dh02wgrO4kGb",
        "outputId": "ee3a0de8-412e-40bf-ce11-9b9327d6871f"
      },
      "execution_count": null,
      "outputs": [
        {
          "output_type": "stream",
          "name": "stdout",
          "text": [
            "list of words  punctuation that are removed from the sentence in both senetnces: ?\n"
          ]
        }
      ]
    },
    {
      "cell_type": "code",
      "source": [
        "#(5) Count the number of vowels in the sentences. Print out each vowel and the number of times it appears in the sentences, such as: a:2, e:1, i:0, etc\n",
        "Number_Vowels = {'a':0, 'e':0, 'i':0, 'o':0, 'u':0}\n",
        "for letter in A:\n",
        "  if letter.lower() in Number_Vowels:\n",
        "    Number_Vowels[letter.lower()] += 1\n",
        "print(\"The count of number of Vowels in the sentence are: \",Number_Vowels)"
      ],
      "metadata": {
        "colab": {
          "base_uri": "https://localhost:8080/"
        },
        "id": "CMUMKyCu4mYa",
        "outputId": "b97a57e8-660c-482a-d708-0e5eeedef145"
      },
      "execution_count": null,
      "outputs": [
        {
          "output_type": "stream",
          "name": "stdout",
          "text": [
            "The count of number of Vowels in the sentence are:  {'a': 4, 'e': 1, 'i': 3, 'o': 0, 'u': 0}\n"
          ]
        }
      ]
    },
    {
      "cell_type": "markdown",
      "metadata": {
        "id": "CmFoI4jDS9nx"
      },
      "source": [
        "# Question 3 \n",
        "\n",
        "(15 points). The formula that describes the volume V of a sphere with radius r is the following:\n",
        "\n",
        "$ V=\\frac{4}{3}\\ast\\ \\pi\\ast\\ r^3 $\n",
        "\n",
        "Write a program to calculate the value of V when r is in the range of 1–10. Output the result in the following format:\n",
        "\n",
        "\tr\tV\n",
        "\t1\t…\n",
        "\t2\t…\n",
        "\t3\t…\n"
      ]
    },
    {
      "cell_type": "code",
      "execution_count": null,
      "metadata": {
        "id": "pEyqeioAT95b",
        "colab": {
          "base_uri": "https://localhost:8080/"
        },
        "outputId": "1fc9d617-cad0-4fe8-da95-1e14719e83b5"
      },
      "outputs": [
        {
          "output_type": "stream",
          "name": "stdout",
          "text": [
            "r   v\n",
            "1 4.1866666666666665\n",
            "2 33.49333333333333\n",
            "3 113.03999999999998\n",
            "4 267.94666666666666\n",
            "5 523.3333333333334\n",
            "6 904.3199999999998\n",
            "7 1436.0266666666666\n",
            "8 2143.5733333333333\n",
            "9 3052.08\n",
            "10 4186.666666666667\n"
          ]
        }
      ],
      "source": [
        "# Firstly printing the r and v columns\n",
        "print(\"r   v\")\n",
        "for r in range(1,11):\n",
        "  V= 4/3*3.14*r*r*r # here Pi value is 3.14\n",
        "  print(r,  V)"
      ]
    },
    {
      "cell_type": "markdown",
      "metadata": {
        "id": "z3tBE7E-Xn5X"
      },
      "source": [
        "# Question 4\n",
        "\n",
        "(40 points). In the field of Data Science, data is often formatted as a comma-delimited (CSV) file, where each line in a file corresponds to a field's value. Refer to Chapter 9 (p. 106) for more information on comma-delimited files. To answer this question, you will need to download the file [Assignment1_denton_housing.csv](https://raw.githubusercontent.com/unt-iialab/info5731-spring2022/main/assignments/Assignment1_denton_housing.csv) included with this assignment. The file [Assignment1_denton_housing.csv](https://raw.githubusercontent.com/unt-iialab/info5731-spring2022/main/assignments/Assignment1_denton_housing.csv) contains statistics about housing in the city of Denton from 2008 to 2014. Write a program to implement the following questions.\n",
        "\n",
        "(1) (10 pts) Calculate the difference in the number of Occupied Housing Units from year to year and print it. The difference must be calculated for the consecutive years such as 2008-2009, 2009-2010 etc. Finally, print the values in the ascending order.\n",
        "\n",
        "(2) (10 pts) For all the years, calculate the percentage of housing units which are vacant an occupied. Print the results in the following format:\n",
        "\n",
        "Year Vacant Housing Units Occupied Housing Units\n",
        "\n",
        "    2008  30%   70%                          \n",
        "\t2009 ----- -----\n",
        "\t2010 ----- -----\n",
        "    2011 ----- -----\n",
        "\t2012 ----- -----\n",
        "    2013 ----- -----\n",
        "\t2014 ----- -----\n",
        "  \n",
        "  \n",
        "\n",
        "(3) (10 pts) Calculate and print the valued and years in which the highest number of housing units were vacant and occupied. Print the results in the following format:  \n",
        "\n",
        "                              Year\tValue\n",
        "\tVacant Housing Units\t  -----   -----\n",
        "\tOccupied Housing Units\t-----   -----\n",
        "\n",
        "(4) (10 pts) Calculate the harmonic mean of the total housing units and print it out. You can find the information about harmonic mean here: https://ncalculators.com/statistics/harmonic-mean-calculator.htm"
      ]
    },
    {
      "cell_type": "code",
      "source": [
        "from google.colab import drive\n",
        "drive.mount('/content/drive')"
      ],
      "metadata": {
        "colab": {
          "base_uri": "https://localhost:8080/"
        },
        "id": "dDCFxtSTtRvl",
        "outputId": "a3629cca-9949-4901-8a9a-15b6c4b04869"
      },
      "execution_count": null,
      "outputs": [
        {
          "output_type": "stream",
          "name": "stdout",
          "text": [
            "Mounted at /content/drive\n"
          ]
        }
      ]
    },
    {
      "cell_type": "code",
      "source": [
        "# (1) (10 pts) Calculate the difference in the number of Occupied Housing Units from year to year and print it. The difference must be calculated for the consecutive years such as 2008-2009, 2009-2010 etc. Finally, print the values in the ascending order.\n",
        "import pandas as pd\n",
        "Housing_data= pd.read_csv(\"/content/drive/MyDrive/Rajiv /Assignment1_denton_housing.csv\")\n",
        "print(Housing_data.head(5))\n",
        "\n",
        "Occupied_Houses = Housing_data[Housing_data['title_field'] == 'Occupied Housing Units'].sort_values(by=['year'])\n",
        "print(Occupied_Houses)\n",
        "\n",
        "difference_houses = [list(Occupied_Houses['value'].values)[loop1] - list(Occupied_Houses['value'].values)[loop1+1]\n",
        "                     for loop1 in range(len(Occupied_Houses)-1)]\n",
        "difference_houses. sort()   \n",
        "print(\" The List in Ascending Order:\", difference_houses)"
      ],
      "metadata": {
        "colab": {
          "base_uri": "https://localhost:8080/"
        },
        "id": "YGUxcqHytXED",
        "outputId": "ec31da24-6cc2-44f6-ae22-57d1c97f41fc"
      },
      "execution_count": null,
      "outputs": [
        {
          "output_type": "stream",
          "name": "stdout",
          "text": [
            "   year             title_field  value\n",
            "0  2014     Total Housing Units  49109\n",
            "1  2014    Vacant Housing Units   2814\n",
            "2  2014  Occupied Housing Units  46295\n",
            "3  2013     Total Housing Units  47888\n",
            "4  2013    Vacant Housing Units   4215\n",
            "    year             title_field  value\n",
            "20  2008  Occupied Housing Units  36711\n",
            "17  2009  Occupied Housing Units  35916\n",
            "14  2010  Occupied Housing Units  41007\n",
            "11  2011  Occupied Housing Units  40704\n",
            "8   2012  Occupied Housing Units  42108\n",
            "5   2013  Occupied Housing Units  43673\n",
            "2   2014  Occupied Housing Units  46295\n",
            " The List in Ascending Order: [-5091, -2622, -1565, -1404, 303, 795]\n"
          ]
        }
      ]
    },
    {
      "cell_type": "code",
      "source": [
        "#(2) (10 pts) For all the years, calculate the percentage of housing units which are vacant an occupied. Print the results in the following format: Year Vacant Housing Units Occupied Housing Units\n",
        "unique_years = sorted(list(Housing_data['year'].unique()))   \n",
        "\n",
        "# number of vacant houses\n",
        "Vacant_houses = Housing_data[Housing_data['title_field'] == 'Vacant Housing Units'].sort_values(by=['year'])\n",
        "\n",
        "Housing_data_new = pd.DataFrame()\n",
        "Housing_data_new['year'] = unique_years\n",
        "Housing_data_new['Vacant House'] = Vacant_houses['value'].values\n",
        "Housing_data_new['Occupied House'] = Occupied_Houses['value'].values\n",
        "Housing_data_new['Percent of Vacant House Units'] = [(Housing_data_new['Vacant House'][loop1] * 100) /\\\n",
        "                                           (Housing_data_new['Vacant House'][loop1] + Housing_data_new['Occupied House'][loop1])\\\n",
        "                                           for loop1 in range(len(Housing_data_new))]\n",
        "Housing_data_new['Percent of Occupied House Units'] = [(Housing_data_new['Occupied House'][loop1] * 100) /\\\n",
        "                                           (Housing_data_new['Vacant House'][loop1] + Housing_data_new['Occupied House'][loop1])\\\n",
        "                                           for loop1 in range(len(Housing_data_new))]\n",
        "Housing_data_new\n",
        "print(Housing_data_new[['year','Percent of Vacant House Units', 'Percent of Occupied House Units']])"
      ],
      "metadata": {
        "colab": {
          "base_uri": "https://localhost:8080/"
        },
        "id": "LR5tQeN3ug6s",
        "outputId": "651bb84c-fdda-4a55-b8e4-6ccd652e1127"
      },
      "execution_count": null,
      "outputs": [
        {
          "output_type": "stream",
          "name": "stdout",
          "text": [
            "   year  Percent of Vacant House Units  Percent of Occupied House Units\n",
            "0  2008                      10.882653                        89.117347\n",
            "1  2009                       9.071116                        90.928884\n",
            "2  2010                       8.142556                        91.857444\n",
            "3  2011                       9.379522                        90.620478\n",
            "4  2012                       6.677600                        93.322400\n",
            "5  2013                       8.801788                        91.198212\n",
            "6  2014                       5.730111                        94.269889\n"
          ]
        }
      ]
    },
    {
      "cell_type": "code",
      "source": [
        "#(3) (10 pts) Calculate and print the valued and years in which the highest number of housing units were vacant and occupied. Print the results in the following format:\n",
        "\n",
        "#the highest number of vacant housing units\n",
        "highest_vacant_houses = max(Housing_data[Housing_data['title_field'] == 'Vacant Housing Units'].value)\n",
        "Vacant_houses = Vacant_houses[Vacant_houses['value'] == highest_vacant_houses]\n",
        "print(Vacant_houses)\n",
        "print(\"-----------------------------------------------\")\n",
        "# the highest number of Occupied housing units\n",
        "highest_Occupied_houses = max(Housing_data[Housing_data['title_field'] == 'Occupied Housing Units'].value)\n",
        "Occupied_Houses = Occupied_Houses[Occupied_Houses['value'] == highest_Occupied_houses]\n",
        "print(Occupied_Houses)"
      ],
      "metadata": {
        "colab": {
          "base_uri": "https://localhost:8080/"
        },
        "id": "J3m1HbDxylUr",
        "outputId": "f2145180-e48b-4ad8-f59d-1765c269c026"
      },
      "execution_count": null,
      "outputs": [
        {
          "output_type": "stream",
          "name": "stdout",
          "text": [
            "    year           title_field  value\n",
            "19  2008  Vacant Housing Units   4483\n",
            "-----------------------------------------------\n",
            "   year             title_field  value\n",
            "2  2014  Occupied Housing Units  46295\n"
          ]
        }
      ]
    },
    {
      "cell_type": "code",
      "source": [
        "#(4) (10 pts) Calculate the harmonic mean of the total housing units and print it out. You can find the information about harmonic mean here:\n",
        "import statistics\n",
        "print(statistics.harmonic_mean(list(Housing_data[Housing_data['title_field'] == 'Total Housing Units'].value)))"
      ],
      "metadata": {
        "colab": {
          "base_uri": "https://localhost:8080/"
        },
        "id": "azzFcx6My7_L",
        "outputId": "2cae1560-8e94-4583-d843-5e3749c2e816"
      },
      "execution_count": null,
      "outputs": [
        {
          "output_type": "stream",
          "name": "stdout",
          "text": [
            "44398.28543969185\n"
          ]
        }
      ]
    }
  ],
  "metadata": {
    "colab": {
      "provenance": [],
      "include_colab_link": true
    },
    "kernelspec": {
      "display_name": "Python 3 (ipykernel)",
      "language": "python",
      "name": "python3"
    },
    "language_info": {
      "codemirror_mode": {
        "name": "ipython",
        "version": 3
      },
      "file_extension": ".py",
      "mimetype": "text/x-python",
      "name": "python",
      "nbconvert_exporter": "python",
      "pygments_lexer": "ipython3",
      "version": "3.9.12"
    }
  },
  "nbformat": 4,
  "nbformat_minor": 0
}